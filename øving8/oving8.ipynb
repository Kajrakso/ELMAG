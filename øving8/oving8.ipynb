{
 "cells": [
  {
   "attachments": {},
   "cell_type": "markdown",
   "metadata": {},
   "source": [
    "## Oppgave 11 - Lorentzkrafta"
   ]
  },
  {
   "cell_type": "code",
   "execution_count": 2,
   "metadata": {},
   "outputs": [
    {
     "name": "stdout",
     "output_type": "stream",
     "text": [
      "F_B=9.03e-17 N i retning vest\n"
     ]
    }
   ],
   "source": [
    "import numpy as np\n",
    "import scipy.constants\n",
    "\n",
    "B = 0.60e-4                 # T\n",
    "v = 1e7                     # m/s\n",
    "theta = np.radians(70)      # vinkel mellom B og v\n",
    "F_B = scipy.constants.elementary_charge* v * B * np.sin(theta)\n",
    "print(f\"{F_B=:.2e} N i retning vest\")"
   ]
  },
  {
   "attachments": {},
   "cell_type": "markdown",
   "metadata": {},
   "source": [
    "## Oppgave 12"
   ]
  },
  {
   "cell_type": "code",
   "execution_count": 3,
   "metadata": {},
   "outputs": [
    {
     "name": "stdout",
     "output_type": "stream",
     "text": [
      "v=1.50e+05\n"
     ]
    }
   ],
   "source": [
    "B = 0.100\n",
    "d = 20e-3\n",
    "V = 300\n",
    "\n",
    "v = V/(d*B)\n",
    "print(f\"{v=:.2e}\")"
   ]
  },
  {
   "attachments": {},
   "cell_type": "markdown",
   "metadata": {},
   "source": [
    "## Oppgave 13"
   ]
  },
  {
   "cell_type": "code",
   "execution_count": 5,
   "metadata": {},
   "outputs": [
    {
     "name": "stdout",
     "output_type": "stream",
     "text": [
      "v=7.58e+05 m/s\n"
     ]
    }
   ],
   "source": [
    "V = 3e3\n",
    "m = scipy.constants.proton_mass\n",
    "q = scipy.constants.elementary_charge\n",
    "d = 1e-3\n",
    "B = 0.400\n",
    "\n",
    "\n",
    "\n",
    "v = np.sqrt(2*q*V/m)\n",
    "\n",
    "# a)\n",
    "print(f\"{v=:.2e} m/s\")"
   ]
  },
  {
   "cell_type": "code",
   "execution_count": 7,
   "metadata": {},
   "outputs": [
    {
     "name": "stdout",
     "output_type": "stream",
     "text": [
      "L_p=0.04\n"
     ]
    }
   ],
   "source": [
    "# b)\n",
    "\n",
    "L_p = 2*(m*v)/(q*B)\n",
    "\n",
    "print(f\"{L_p=:.2f}\")"
   ]
  }
 ],
 "metadata": {
  "kernelspec": {
   "display_name": "FYSMATenv",
   "language": "python",
   "name": "python3"
  },
  "language_info": {
   "codemirror_mode": {
    "name": "ipython",
    "version": 3
   },
   "file_extension": ".py",
   "mimetype": "text/x-python",
   "name": "python",
   "nbconvert_exporter": "python",
   "pygments_lexer": "ipython3",
   "version": "3.11.2"
  },
  "orig_nbformat": 4
 },
 "nbformat": 4,
 "nbformat_minor": 2
}
