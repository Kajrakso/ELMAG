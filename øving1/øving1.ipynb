{
 "cells": [
  {
   "attachments": {},
   "cell_type": "markdown",
   "metadata": {},
   "source": [
    "## Utregninger til øving 1\n",
    "Se . for resten."
   ]
  },
  {
   "cell_type": "code",
   "execution_count": 23,
   "metadata": {},
   "outputs": [],
   "source": [
    "from scipy import constants as const\n",
    "import numpy as np\n",
    "\n",
    "k = 1/(4*const.pi*const.epsilon_0)      # ~9*10^9 N m^2 C^-2\n"
   ]
  },
  {
   "attachments": {},
   "cell_type": "markdown",
   "metadata": {},
   "source": [
    "### Gravitasjonskraft - elektrisk kraft"
   ]
  },
  {
   "cell_type": "code",
   "execution_count": 24,
   "metadata": {},
   "outputs": [
    {
     "name": "stdout",
     "output_type": "stream",
     "text": [
      "a) 2.05e+05\n",
      "b) -1.93e-06\n",
      "d) 3.47e+33\n"
     ]
    }
   ],
   "source": [
    "RHO = 0.80E3 # massetetthet dråpe, kg m^-3\n",
    "R = 1E-6 # radius dråpe, m\n",
    "M_M = 19E-3 # molar masse fluoridion, kg mol^-1\n",
    "\n",
    "q_a = const.e   # ladning dråpe\n",
    "q_b = -const.e  # ladning fluoridion\n",
    "\n",
    "E_a = RHO/q_a * const.g * 4/3*const.pi*R**3\n",
    "E_b = 1/q_b * const.g * M_M/const.Avogadro\n",
    "Forhold_d = k/const.G * (q_a**2*const.Avogadro**2)/(M_M**2)\n",
    "\n",
    "print(f'a) {E_a:.2e}')\n",
    "print(f'b) {E_b:.2e}')\n",
    "print(f'd) {Forhold_d:.2e}')\n",
    "\n",
    "# juliasha@stud.ntnu.no"
   ]
  },
  {
   "attachments": {},
   "cell_type": "markdown",
   "metadata": {},
   "source": [
    "### Punktladninger 1"
   ]
  },
  {
   "cell_type": "code",
   "execution_count": 42,
   "metadata": {},
   "outputs": [
    {
     "name": "stdout",
     "output_type": "stream",
     "text": [
      "Kraft på q1: -8.99e-09 i +1.35e-08 j\n",
      "Størrelse på kraften: 1.62e-08\n",
      "Vinkel: 123.69 grader fra x-akse\n",
      "\n",
      "Kraft på q3: 4.77e-09 i -1.43e-08 j\n",
      "Størrelse på kraften: 1.51e-08\n",
      "Vinkel: -71.57 grader fra x-akse\n"
     ]
    }
   ],
   "source": [
    "R = 2 # m\n",
    "L = np.sqrt(R**2+R**2) # m\n",
    "\n",
    "Q1 = 2.0E-9 # C\n",
    "Q2 = Q1 # C\n",
    "Q3 = -3.0E-9 # C\n",
    "\n",
    "F_q1_x, F_q1_y = -k*Q1*Q2/R**2, -k*Q1*Q3/R**2\n",
    "F_q1_abs = np.sqrt(F_q1_x**2+F_q1_y**2)\n",
    "F_q1_angle = np.arctan(F_q1_y/F_q1_x)  + const.pi    # 2. kvadrant\n",
    "\n",
    "F_q3_x, F_q3_y = -np.sqrt(2)/2*k*Q2*Q3/L**2, np.sqrt(2)/2*k*Q3*(Q1/R**2+Q2/L**2)\n",
    "F_q3_abs = np.sqrt(F_q3_x**2+F_q3_y**2)\n",
    "F_q3_angle = np.arctan(F_q3_y/F_q3_x)\n",
    "\n",
    "print(f'Kraft på q1: {F_q1_x:.2e} i +{F_q1_y:.2e} j')\n",
    "print(f'Størrelse på kraften: {F_q1_abs:.2e}')\n",
    "print(f'Vinkel: {F_q1_angle*180/const.pi:.2f} grader fra x-akse\\n')\n",
    "\n",
    "print(f'Kraft på q3: {F_q3_x:.2e} i {F_q3_y:.2e} j')\n",
    "print(f'Størrelse på kraften: {F_q3_abs:.2e}')\n",
    "print(f'Vinkel: {F_q3_angle*180/const.pi:.2f} grader fra x-akse')"
   ]
  },
  {
   "attachments": {},
   "cell_type": "markdown",
   "metadata": {},
   "source": [
    "### Punktladninger 2"
   ]
  },
  {
   "cell_type": "code",
   "execution_count": 25,
   "metadata": {},
   "outputs": [
    {
     "name": "stdout",
     "output_type": "stream",
     "text": [
      "q1: -3.16e-06\n",
      "q2: 1.90e-06\n",
      "q3: -5.27e-06\n"
     ]
    }
   ],
   "source": [
    "F_12, F_13, F_23 = 5.40, 15.0, 9.0 # krefter, N\n",
    "R = 0.1 # avstand, m\n",
    "\n",
    "q2 = np.sqrt(R**2/k*(F_12*F_23)/F_13)\n",
    "q1 = - R**2*F_12/(k*q2)\n",
    "q3 = - R**2*F_23/(k*q2)\n",
    "\n",
    "print(f'q1: {q1:.2e}\\nq2: {q2:.2e}\\nq3: {q3:.2e}')\n"
   ]
  }
 ],
 "metadata": {
  "kernelspec": {
   "display_name": ".venv",
   "language": "python",
   "name": "python3"
  },
  "language_info": {
   "codemirror_mode": {
    "name": "ipython",
    "version": 3
   },
   "file_extension": ".py",
   "mimetype": "text/x-python",
   "name": "python",
   "nbconvert_exporter": "python",
   "pygments_lexer": "ipython3",
   "version": "3.10.9 (tags/v3.10.9:1dd9be6, Dec  6 2022, 20:01:21) [MSC v.1934 64 bit (AMD64)]"
  },
  "orig_nbformat": 4,
  "vscode": {
   "interpreter": {
    "hash": "84dbbefaaa9aab56de07cccc967d281ce03aeb93668353da905c0115e16a368f"
   }
  }
 },
 "nbformat": 4,
 "nbformat_minor": 2
}
