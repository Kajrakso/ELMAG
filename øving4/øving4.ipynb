{
 "cells": [
  {
   "cell_type": "code",
   "execution_count": 1,
   "metadata": {},
   "outputs": [],
   "source": [
    "from scipy import constants as const\n",
    "\n",
    "# CONSTANTS\n",
    "\n",
    "k = 1/(4*const.pi*const.epsilon_0)"
   ]
  },
  {
   "attachments": {},
   "cell_type": "markdown",
   "metadata": {},
   "source": [
    "### Oppgave 6"
   ]
  },
  {
   "cell_type": "code",
   "execution_count": 6,
   "metadata": {},
   "outputs": [
    {
     "name": "stdout",
     "output_type": "stream",
     "text": [
      "E = 2.2e+02 N/C\n"
     ]
    }
   ],
   "source": [
    "d = 0.20        # m\n",
    "q = 0.250e-9    # C\n",
    "\n",
    "E = k*q/((d/2)**2)\n",
    "print(f'E = {E:.1e} N/C')"
   ]
  },
  {
   "attachments": {},
   "cell_type": "markdown",
   "metadata": {},
   "source": [
    "### Oppgave 7"
   ]
  },
  {
   "cell_type": "code",
   "execution_count": 3,
   "metadata": {},
   "outputs": [
    {
     "name": "stdout",
     "output_type": "stream",
     "text": [
      "N > 1.8e+10\n"
     ]
    }
   ],
   "source": [
    "d = 0.30    # m\n",
    "E = 1150    # N/C\n",
    "\n",
    "N = (d/2)**2 * E / (k*const.elementary_charge)\n",
    "\n",
    "print(f'N > {N:.1e}')"
   ]
  },
  {
   "attachments": {},
   "cell_type": "markdown",
   "metadata": {},
   "source": [
    "### Oppgave 10"
   ]
  },
  {
   "cell_type": "code",
   "execution_count": 4,
   "metadata": {},
   "outputs": [
    {
     "name": "stdout",
     "output_type": "stream",
     "text": [
      "U = 2.3e-18 J\n",
      "U = 1.4e+01 eV\n"
     ]
    }
   ],
   "source": [
    "r = 0.10e-9 # m\n",
    "\n",
    "U = k*const.elementary_charge**2/r\n",
    "\n",
    "print(f'U = {U:.1e} J')\n",
    "print(f'U = {U/const.elementary_charge:.1e} eV')"
   ]
  },
  {
   "attachments": {},
   "cell_type": "markdown",
   "metadata": {},
   "source": [
    "### Oppgave 13"
   ]
  },
  {
   "attachments": {},
   "cell_type": "markdown",
   "metadata": {},
   "source": [
    "Innfører:\n",
    "\n",
    "$\n",
    "\\tilde{r} = r/R\n",
    "$\n",
    "\n",
    "Dimensjonsløse variable:\n",
    "\n",
    "$\n",
    "\\tilde{\\rho}(\\tilde{r}) = \\frac{\\rho(\\tilde{r})}{4\\rho_0}\n",
    "\\\\\n",
    "\\tilde{Q}(\\tilde{r}) = \\frac{Q(\\tilde{r})}{\\frac{4 \\pi \\rho_0}{3}R^3}\n",
    "\\\\\n",
    "\\tilde{E}(\\tilde{r}) = \\frac{E(\\tilde{r})}{\\frac{\\rho_0}{3\\epsilon_0}R}\n",
    "\\\\\n",
    "\\tilde{V}(\\tilde{r}) = \\frac{V(\\tilde{r})}{\\frac{\\rho_0}{3\\epsilon_0}R^2}\n",
    "$\n",
    "\n"
   ]
  },
  {
   "cell_type": "code",
   "execution_count": 5,
   "metadata": {},
   "outputs": [
    {
     "ename": "NameError",
     "evalue": "name 'R' is not defined",
     "output_type": "error",
     "traceback": [
      "\u001b[1;31m---------------------------------------------------------------------------\u001b[0m",
      "\u001b[1;31mNameError\u001b[0m                                 Traceback (most recent call last)",
      "Cell \u001b[1;32mIn[5], line 8\u001b[0m\n\u001b[0;32m      6\u001b[0m npoints \u001b[39m=\u001b[39m \u001b[39m100\u001b[39m\n\u001b[0;32m      7\u001b[0m r_ax \u001b[39m=\u001b[39m np\u001b[39m.\u001b[39mlinspace(\u001b[39m0\u001b[39m,r_max, npoints)        \u001b[39m# from 0 to r = r_max\u001b[39;00m\n\u001b[1;32m----> 8\u001b[0m r_ax_R \u001b[39m=\u001b[39m [r \u001b[39mif\u001b[39;00m r \u001b[39m<\u001b[39m\u001b[39m=\u001b[39m R \u001b[39melse\u001b[39;00m R \u001b[39mfor\u001b[39;00m r \u001b[39min\u001b[39;00m r_ax] \u001b[39m# from 0 to R\u001b[39;00m\n\u001b[0;32m     10\u001b[0m \u001b[39m# constants\u001b[39;00m\n\u001b[0;32m     11\u001b[0m rho_0: \u001b[39mfloat\u001b[39m \u001b[39m=\u001b[39m \u001b[39m0.5\u001b[39m\n",
      "Cell \u001b[1;32mIn[5], line 8\u001b[0m, in \u001b[0;36m<listcomp>\u001b[1;34m(.0)\u001b[0m\n\u001b[0;32m      6\u001b[0m npoints \u001b[39m=\u001b[39m \u001b[39m100\u001b[39m\n\u001b[0;32m      7\u001b[0m r_ax \u001b[39m=\u001b[39m np\u001b[39m.\u001b[39mlinspace(\u001b[39m0\u001b[39m,r_max, npoints)        \u001b[39m# from 0 to r = r_max\u001b[39;00m\n\u001b[1;32m----> 8\u001b[0m r_ax_R \u001b[39m=\u001b[39m [r \u001b[39mif\u001b[39;00m r \u001b[39m<\u001b[39m\u001b[39m=\u001b[39m R \u001b[39melse\u001b[39;00m R \u001b[39mfor\u001b[39;00m r \u001b[39min\u001b[39;00m r_ax] \u001b[39m# from 0 to R\u001b[39;00m\n\u001b[0;32m     10\u001b[0m \u001b[39m# constants\u001b[39;00m\n\u001b[0;32m     11\u001b[0m rho_0: \u001b[39mfloat\u001b[39m \u001b[39m=\u001b[39m \u001b[39m0.5\u001b[39m\n",
      "\u001b[1;31mNameError\u001b[0m: name 'R' is not defined"
     ]
    }
   ],
   "source": [
    "import matplotlib.pyplot as plt\n",
    "import numpy as np\n",
    "\n",
    "# array of values for r_tilde for plotting\n",
    "r_max = 3/2\n",
    "npoints = 100\n",
    "r_ax = np.linspace(0,r_max, npoints)        # from 0 to r = r_max\n",
    "r_ax_R = [r if r <= R else R for r in r_ax] # from 0 to R\n",
    "\n",
    "# constants\n",
    "rho_0: float = 0.5\n",
    "R: int = 1\n",
    "\n",
    "# functions\n",
    "rho = lambda r: 4*rho_0*(1 - r/R)\n",
    "Q = lambda r: 4*const.pi*rho_0*(4/3*r**3 - 1/R*r**4)\n",
    "\n",
    "def E(r):\n",
    "    if r <= R:\n",
    "        return rho_0/const.epsilon_0*(4/3*r - 1/R*r**2)\n",
    "    else:\n",
    "        return rho_0*R**3/(3*const.epsilon_0) * 1/r**2\n",
    "\n",
    "def V(r):\n",
    "    if r <= R:\n",
    "        return rho_0/(3*const.epsilon_0)*(2*R**2 - 2*r**2 + 1/R*r**3)\n",
    "    else:\n",
    "        return rho_0/(3*const.epsilon_0)*(R**3/r)\n",
    "\n",
    "# Relative functions\n",
    "rho_tilde = lambda r_tilde: rho(r_tilde)/(4*rho_0)\n",
    "Q_tilde = lambda r_tilde: Q(r_tilde)/(R**3*(4*const.pi*rho_0/3))\n",
    "E_tilde = lambda r_tilde: E(r_tilde)/(R*rho_0/(3*const.epsilon_0))\n",
    "V_tilde = lambda r_tilde: V(r_tilde)/(R**2*rho_0/(3*const.epsilon_0))\n",
    "\n",
    "# values of functions\n",
    "rho_vals = [rho_tilde(r) for r in r_ax_R]\n",
    "Q_vals = [Q_tilde(r) for r in r_ax_R]\n",
    "E_vals = [E_tilde(r) for r in r_ax]\n",
    "V_vals = [V_tilde(r) for r in r_ax]\n",
    "\n",
    "#plotting\n",
    "plt.plot(r_ax_R, rho_vals, label=r\"$\\tilde{\\rho}$\")\n",
    "plt.plot(r_ax, Q_vals, label=r\"$\\tilde{Q}$\")\n",
    "plt.plot(r_ax, E_vals, label=r\"$\\tilde{E}$\")\n",
    "plt.plot(r_ax, V_vals, label=r\"$\\tilde{V}$\")\n",
    "\n",
    "plt.legend()\n",
    "plt.title(r\"Kule gitt ved $Q(r)$\")\n",
    "plt.xlabel(r\"$r/R$\", loc=\"right\")\n",
    "plt.ylabel(r\"Relative values: $\\rho$, $Q$, $E$, $V$\")\n",
    "plt.show()"
   ]
  }
 ],
 "metadata": {
  "kernelspec": {
   "display_name": ".venv",
   "language": "python",
   "name": "python3"
  },
  "language_info": {
   "codemirror_mode": {
    "name": "ipython",
    "version": 3
   },
   "file_extension": ".py",
   "mimetype": "text/x-python",
   "name": "python",
   "nbconvert_exporter": "python",
   "pygments_lexer": "ipython3",
   "version": "3.10.10"
  },
  "orig_nbformat": 4,
  "vscode": {
   "interpreter": {
    "hash": "84dbbefaaa9aab56de07cccc967d281ce03aeb93668353da905c0115e16a368f"
   }
  }
 },
 "nbformat": 4,
 "nbformat_minor": 2
}
